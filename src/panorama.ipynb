{
 "cells": [
  {
   "cell_type": "markdown",
   "id": "256fe2e5",
   "metadata": {},
   "source": [
    "# Proyecto 03 - Panorama\n",
    "Integrantes:\n",
    "- Sara Echeverría 21371\n",
    "- Melissa Pérez 21385\n",
    "- Ricardo Mendez 21289\n",
    "\n",
    "Repositorio: https://github.com/bl33h/panoramaBuilder"
   ]
  },
  {
   "cell_type": "code",
   "execution_count": 1,
   "id": "3ecbf061",
   "metadata": {},
   "outputs": [],
   "source": [
    "import numpy as np\n",
    "import cv2 as cv2\n",
    "import matplotlib.pyplot as plt"
   ]
  },
  {
   "cell_type": "markdown",
   "id": "e4ed89ab",
   "metadata": {},
   "source": [
    "### 01. Images"
   ]
  },
  {
   "cell_type": "code",
   "execution_count": 2,
   "id": "02200c0b",
   "metadata": {},
   "outputs": [],
   "source": [
    "def load_images(paths):\n",
    "    return [cv2.imread(p) for p in paths]"
   ]
  },
  {
   "cell_type": "code",
   "execution_count": 3,
   "id": "e6b8cd51",
   "metadata": {},
   "outputs": [],
   "source": [
    "image_paths = ['./img/1_1.png', './img/1_2.png', './img/1_3.png', './img/1_4.png']\n",
    "images = load_images(image_paths)"
   ]
  },
  {
   "cell_type": "markdown",
   "id": "a45f398b",
   "metadata": {},
   "source": [
    "### 02. Matching pairs"
   ]
  },
  {
   "cell_type": "code",
   "execution_count": 4,
   "id": "ababa075",
   "metadata": {},
   "outputs": [],
   "source": [
    "def detect_and_match(img1, img2):\n",
    "    orb = cv2.ORB_create(5000)\n",
    "    kp1, des1 = orb.detectAndCompute(img1, None)\n",
    "    kp2, des2 = orb.detectAndCompute(img2, None)\n",
    "    \n",
    "    matcher = cv2.BFMatcher(cv2.NORM_HAMMING, crossCheck=True)\n",
    "    matches = matcher.match(des1, des2)\n",
    "    matches = sorted(matches, key=lambda x: x.distance)\n",
    "    \n",
    "    pts1 = np.float32([kp1[m.queryIdx].pt for m in matches]).reshape(-1,1,2)\n",
    "    pts2 = np.float32([kp2[m.trainIdx].pt for m in matches]).reshape(-1,1,2)\n",
    "    \n",
    "    H, mask = cv2.findHomography(pts2, pts1, cv2.RANSAC)\n",
    "    return H, mask, kp1, kp2, matches"
   ]
  },
  {
   "cell_type": "code",
   "execution_count": 5,
   "id": "14e92cc9",
   "metadata": {},
   "outputs": [],
   "source": [
    "def build_homographies(images, detect_and_match_fn):\n",
    "    n = len(images)\n",
    "    base_idx = n // 2\n",
    "    Hs = [None] * n\n",
    "    Hs[base_idx] = np.eye(3)\n",
    "\n",
    "    for i in range(base_idx - 1, -1, -1):\n",
    "        H, _, _, _, _ = detect_and_match_fn(images[i + 1], images[i])\n",
    "        Hs[i] = Hs[i + 1] @ H\n",
    "\n",
    "    for i in range(base_idx + 1, n):\n",
    "        H, _, _, _, _ = detect_and_match_fn(images[i - 1], images[i])\n",
    "        Hs[i] = Hs[i - 1] @ np.linalg.inv(H)\n",
    "\n",
    "    return Hs"
   ]
  },
  {
   "cell_type": "code",
   "execution_count": 6,
   "id": "61118997",
   "metadata": {},
   "outputs": [],
   "source": [
    "Hs = build_homographies(images, detect_and_match)\n"
   ]
  },
  {
   "cell_type": "markdown",
   "id": "6d0f1bb9",
   "metadata": {},
   "source": [
    "### 03. Wrapping"
   ]
  },
  {
   "cell_type": "code",
   "execution_count": null,
   "id": "1ed252ec",
   "metadata": {},
   "outputs": [],
   "source": []
  },
  {
   "cell_type": "markdown",
   "id": "6dc0df52",
   "metadata": {},
   "source": [
    "### 04. Blending"
   ]
  },
  {
   "cell_type": "code",
   "execution_count": null,
   "id": "22870584",
   "metadata": {},
   "outputs": [],
   "source": []
  },
  {
   "cell_type": "markdown",
   "id": "b53b2b8d",
   "metadata": {},
   "source": [
    "## Result"
   ]
  },
  {
   "cell_type": "code",
   "execution_count": null,
   "id": "2a171149",
   "metadata": {},
   "outputs": [],
   "source": []
  }
 ],
 "metadata": {
  "kernelspec": {
   "display_name": ".venv",
   "language": "python",
   "name": "python3"
  },
  "language_info": {
   "codemirror_mode": {
    "name": "ipython",
    "version": 3
   },
   "file_extension": ".py",
   "mimetype": "text/x-python",
   "name": "python",
   "nbconvert_exporter": "python",
   "pygments_lexer": "ipython3",
   "version": "3.11.10"
  }
 },
 "nbformat": 4,
 "nbformat_minor": 5
}
